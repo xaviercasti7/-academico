{
  "nbformat": 4,
  "nbformat_minor": 0,
  "metadata": {
    "colab": {
      "provenance": [],
      "authorship_tag": "ABX9TyNNIPuwW7o4ahRkJY15CeyK",
      "include_colab_link": true
    },
    "kernelspec": {
      "name": "python3",
      "display_name": "Python 3"
    },
    "language_info": {
      "name": "python"
    }
  },
  "cells": [
    {
      "cell_type": "markdown",
      "metadata": {
        "id": "view-in-github",
        "colab_type": "text"
      },
      "source": [
        "<a href=\"https://colab.research.google.com/github/xaviercasti7/-academico/blob/main/Untitled1.ipynb\" target=\"_parent\"><img src=\"https://colab.research.google.com/assets/colab-badge.svg\" alt=\"Open In Colab\"/></a>"
      ]
    },
    {
      "cell_type": "code",
      "source": [
        "from datetime import datetime\n",
        "\n",
        "# Lista de fechas de nacimiento en formato 'YYYY-MM-DD'\n",
        "fechas_nacimiento = ['1990-05-15', '2000-10-23', '1985-12-05']\n",
        "\n",
        "# Función para calcular la edad\n",
        "def calcular_edad(fecha_nacimiento):\n",
        "    hoy = datetime.now()\n",
        "    fecha_nacimiento = datetime.strptime(fecha_nacimiento, '%Y-%m-%d')\n",
        "    edad = hoy.year - fecha_nacimiento.year - ((hoy.month, hoy.day) < (fecha_nacimiento.month, fecha_nacimiento.day))\n",
        "    return edad\n",
        "\n",
        "# Lista de edades calculadas\n",
        "edades = [calcular_edad(fecha) for fecha in fechas_nacimiento]\n",
        "\n",
        "# Mostrar las edades\n",
        "for i, edad in enumerate(edades):\n",
        "    print(f\"Persona {i + 1}: {edad} años\")"
      ],
      "metadata": {
        "colab": {
          "base_uri": "https://localhost:8080/"
        },
        "id": "9PCE3Ac8r2nj",
        "outputId": "fddc0b51-fd5d-4d74-b089-3d0854198414"
      },
      "execution_count": 3,
      "outputs": [
        {
          "output_type": "stream",
          "name": "stdout",
          "text": [
            "Persona 1: 34 años\n",
            "Persona 2: 23 años\n",
            "Persona 3: 38 años\n"
          ]
        }
      ]
    },
    {
      "cell_type": "code",
      "source": [
        "def calcular_edad(fecha_nacimiento):\n",
        "    hoy = datetime.now()\n",
        "    fecha_nacimiento = datetime.strptime(fecha_nacimiento, '%Y-%m-%d')\n",
        "    edad = hoy.year - fecha_nacimiento.year - ((hoy.month, hoy.day) < (fecha_nacimiento.month, fecha_nacimiento.day))\n",
        "    return edad\n",
        "\n",
        "# Lista de edades calculadas\n",
        "edades = [calcular_edad(fecha) for fecha in fechas_nacimiento]\n",
        "\n",
        "# Mostrar las edades\n",
        "for i, edad in enumerate(edades):\n",
        "    print(f\"Persona {i + 1}: {edad} años\")"
      ],
      "metadata": {
        "colab": {
          "base_uri": "https://localhost:8080/"
        },
        "id": "rMWxE68FsYQ4",
        "outputId": "477f7cce-72a9-465d-c111-ac91c144f5e8"
      },
      "execution_count": 4,
      "outputs": [
        {
          "output_type": "stream",
          "name": "stdout",
          "text": [
            "Persona 1: 34 años\n",
            "Persona 2: 23 años\n",
            "Persona 3: 38 años\n"
          ]
        }
      ]
    }
  ]
}